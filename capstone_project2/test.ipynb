{
 "cells": [
  {
   "cell_type": "code",
   "execution_count": 8,
   "id": "6b85e011-32ec-45de-9ce8-5a7c1d14efd6",
   "metadata": {
    "tags": []
   },
   "outputs": [
    {
     "name": "stdout",
     "output_type": "stream",
     "text": [
      "Prediction: MildDemented\n"
     ]
    }
   ],
   "source": [
    "import requests\n",
    "\n",
    "api_url = \"http://0.0.0.0:8000/predict\"\n",
    "image_url = \"Screenshot 2567-01-08 at 21.55.23.png\"\n",
    "payload = {\"img_url\": image_url}\n",
    "response = requests.post(api_url, json=payload)\n",
    "if response.status_code == 200:\n",
    "    prediction_result = response.json()\n",
    "    print(\"Prediction:\", prediction_result)\n",
    "else:\n",
    "    print(\"Failed to get a prediction. Status code:\", response.status_code)\n",
    "    print(\"Response:\", response.text)"
   ]
  },
  {
   "cell_type": "code",
   "execution_count": 5,
   "id": "21014b41-0e3e-40fe-af25-35dc07aca5f6",
   "metadata": {
    "tags": []
   },
   "outputs": [
    {
     "name": "stderr",
     "output_type": "stream",
     "text": [
      "INFO: Created TensorFlow Lite XNNPACK delegate for CPU.\n"
     ]
    }
   ],
   "source": [
    "from predict import run_classifier"
   ]
  },
  {
   "cell_type": "code",
   "execution_count": 7,
   "id": "cf754bad-021a-497b-ab1d-f1a53b85e1dc",
   "metadata": {
    "tags": []
   },
   "outputs": [
    {
     "data": {
      "text/plain": [
       "'MildDemented'"
      ]
     },
     "execution_count": 7,
     "metadata": {},
     "output_type": "execute_result"
    }
   ],
   "source": [
    "run_classifier(\"Screenshot 2567-01-08 at 21.55.23.png\")"
   ]
  },
  {
   "cell_type": "code",
   "execution_count": null,
   "id": "7fef5c80-9e9b-4a42-b4f7-d59d80808de2",
   "metadata": {},
   "outputs": [],
   "source": []
  }
 ],
 "metadata": {
  "environment": {
   "kernel": "python3",
   "name": "common-cpu.m113",
   "type": "gcloud",
   "uri": "gcr.io/deeplearning-platform-release/base-cpu:m113"
  },
  "kernelspec": {
   "display_name": "Python 3",
   "language": "python",
   "name": "python3"
  },
  "language_info": {
   "codemirror_mode": {
    "name": "ipython",
    "version": 3
   },
   "file_extension": ".py",
   "mimetype": "text/x-python",
   "name": "python",
   "nbconvert_exporter": "python",
   "pygments_lexer": "ipython3",
   "version": "3.10.13"
  }
 },
 "nbformat": 4,
 "nbformat_minor": 5
}
