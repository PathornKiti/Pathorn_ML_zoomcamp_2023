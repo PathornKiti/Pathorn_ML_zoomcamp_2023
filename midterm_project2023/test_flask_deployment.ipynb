{
 "cells": [
  {
   "cell_type": "code",
   "execution_count": 15,
   "id": "ff46222b-ee29-482e-9226-5ef3e08ed6b6",
   "metadata": {},
   "outputs": [
    {
     "data": {
      "application/javascript": [
       "IPython.notebook.set_autosave_interval(0)"
      ]
     },
     "metadata": {},
     "output_type": "display_data"
    },
    {
     "name": "stdout",
     "output_type": "stream",
     "text": [
      "Autosave disabled\n"
     ]
    }
   ],
   "source": [
    "%autosave 0"
   ]
  },
  {
   "cell_type": "code",
   "execution_count": 43,
   "id": "9e7202db-0378-4b01-9688-afffd6e4170f",
   "metadata": {},
   "outputs": [],
   "source": [
    "import requests"
   ]
  },
  {
   "cell_type": "code",
   "execution_count": 44,
   "id": "6f6c256f-44a8-4aa9-afa9-95131b43c0ca",
   "metadata": {},
   "outputs": [],
   "source": [
    "url=\"http://localhost:9696/predict\""
   ]
  },
  {
   "cell_type": "code",
   "execution_count": 51,
   "id": "412dfd7a-4894-469a-9386-d49ea7b34ba7",
   "metadata": {},
   "outputs": [],
   "source": [
    "customer={'person_age': 24,\n",
    " 'person_income': 47300,\n",
    " 'person_home_ownership': 'MORTGAGE',\n",
    " 'person_emp_length': 5.0,\n",
    " 'loan_intent': 'PERSONAL',\n",
    " 'loan_grade': 'A',\n",
    " 'loan_amnt': 9500,\n",
    " 'loan_int_rate': 8.49,\n",
    " 'loan_percent_income': 0.2,\n",
    " 'cb_person_default_on_file': 'N',\n",
    " 'cb_person_cred_hist_length': 2}"
   ]
  },
  {
   "cell_type": "code",
   "execution_count": 52,
   "id": "99f3e7f3-2422-43f1-ad2a-0bdd81338979",
   "metadata": {},
   "outputs": [
    {
     "data": {
      "text/plain": [
       "{'Default': False, 'Default_probability': 0.0}"
      ]
     },
     "execution_count": 52,
     "metadata": {},
     "output_type": "execute_result"
    }
   ],
   "source": [
    "requests.post(url,json=customer).json()"
   ]
  },
  {
   "cell_type": "code",
   "execution_count": null,
   "id": "7a49b835-59d4-49f7-be66-65f18880a6b4",
   "metadata": {},
   "outputs": [],
   "source": []
  }
 ],
 "metadata": {
  "environment": {
   "kernel": "python3",
   "name": "tf2-gpu.2-11.m109",
   "type": "gcloud",
   "uri": "gcr.io/deeplearning-platform-release/tf2-gpu.2-11:m109"
  },
  "kernelspec": {
   "display_name": "Python 3",
   "language": "python",
   "name": "python3"
  },
  "language_info": {
   "codemirror_mode": {
    "name": "ipython",
    "version": 3
   },
   "file_extension": ".py",
   "mimetype": "text/x-python",
   "name": "python",
   "nbconvert_exporter": "python",
   "pygments_lexer": "ipython3",
   "version": "3.10.11"
  }
 },
 "nbformat": 4,
 "nbformat_minor": 5
}
