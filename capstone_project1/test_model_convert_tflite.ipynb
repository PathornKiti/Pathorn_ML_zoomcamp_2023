{
  "nbformat": 4,
  "nbformat_minor": 0,
  "metadata": {
    "colab": {
      "provenance": []
    },
    "kernelspec": {
      "name": "python3",
      "display_name": "Python 3"
    },
    "language_info": {
      "name": "python"
    }
  },
  "cells": [
    {
      "cell_type": "code",
      "execution_count": 1,
      "metadata": {
        "id": "FaWA-cdjIKqQ"
      },
      "outputs": [],
      "source": [
        "import pandas as pd\n",
        "import os\n",
        "import numpy as np\n",
        "import pickle\n",
        "import tensorflow as tf\n",
        "from tensorflow.keras.preprocessing.sequence import pad_sequences\n",
        "from tensorflow.keras.models import load_model"
      ]
    },
    {
      "cell_type": "code",
      "source": [
        "with open('cnn_tokenizer.pickle', 'rb') as handle:\n",
        "    cnn_tokenizer = pickle.load(handle)\n",
        "handle.close()"
      ],
      "metadata": {
        "id": "8pfdxP19ItUQ"
      },
      "execution_count": 2,
      "outputs": []
    },
    {
      "cell_type": "code",
      "source": [
        "with open('label_encoder.pickle', 'rb') as handle:\n",
        "    le = pickle.load(handle)\n",
        "handle.close()"
      ],
      "metadata": {
        "id": "MUaOSN3qIsi0"
      },
      "execution_count": 3,
      "outputs": []
    },
    {
      "cell_type": "code",
      "source": [
        "cnn = load_model(\"cnn.h5\")"
      ],
      "metadata": {
        "id": "imyR2wf1IsoN"
      },
      "execution_count": 8,
      "outputs": []
    },
    {
      "cell_type": "code",
      "source": [
        "with open('lstmx_tokenizer.pickle', 'rb') as handle:\n",
        "    lstmx_tokenizer= pickle.load(handle)\n",
        "handle.close()"
      ],
      "metadata": {
        "id": "qjOOZ5CmIsqj"
      },
      "execution_count": 4,
      "outputs": []
    },
    {
      "cell_type": "code",
      "source": [
        "with open('lstmy_tokenizer.pickle', 'rb') as handle:\n",
        "    lstmy_tokenizer= pickle.load(handle)\n",
        "handle.close()"
      ],
      "metadata": {
        "id": "hvq6uEKvJbr4"
      },
      "execution_count": 5,
      "outputs": []
    },
    {
      "cell_type": "code",
      "source": [
        "bilstm= load_model(\"lstm.h5\")"
      ],
      "metadata": {
        "id": "v3GKkNpgKDD5"
      },
      "execution_count": 7,
      "outputs": []
    },
    {
      "cell_type": "code",
      "source": [
        "def predict(sentence):\n",
        "  # Intent Classification\n",
        "    sentence_sequence = cnn_tokenizer.texts_to_sequences([sentence])\n",
        "    sentence_sequence_padded = pad_sequences(sentence_sequence, padding='post', maxlen=50)\n",
        "    cnnpred= cnn.predict(sentence_sequence_padded)\n",
        "    predicted_label = np.argmax(cnnpred)\n",
        "    label=le.classes_[predicted_label]\n",
        "  # Slots Filling\n",
        "    label_list = list(lstmy_tokenizer.word_index.keys())\n",
        "    index_list = list(lstmy_tokenizer.word_index.values())\n",
        "    input_seq = lstmx_tokenizer.texts_to_sequences([sentence])\n",
        "    input_features = pad_sequences(input_seq, maxlen = 50, padding = 'post')\n",
        "    lstmpred = bilstm.predict(input_features)\n",
        "    slots = [label_list[index_list.index(j)] for j in [np.argmax(x) for x in lstmpred [0][:]] if j in index_list]\n",
        "\n",
        "  # Result\n",
        "    print(\"Sentence:\", sentence)\n",
        "    print(\"Intent:\", label)\n",
        "    print(\"Slot:\", slots)"
      ],
      "metadata": {
        "id": "9SsAFI9_Jn90"
      },
      "execution_count": 9,
      "outputs": []
    },
    {
      "cell_type": "code",
      "source": [
        "predict(\"Tell me best Japanese restaurant and book me 3 seats\")"
      ],
      "metadata": {
        "colab": {
          "base_uri": "https://localhost:8080/"
        },
        "id": "cmblYypYKNso",
        "outputId": "33d29524-3a74-4082-96a0-5567a5c708fc"
      },
      "execution_count": 10,
      "outputs": [
        {
          "output_type": "stream",
          "name": "stdout",
          "text": [
            "1/1 [==============================] - 0s 260ms/step\n",
            "1/1 [==============================] - 0s 340ms/step\n",
            "Sentence: Tell me best Japanese restaurant and book me 3 seats\n",
            "Intent: BookRestaurant\n",
            "Slot: ['O', 'O', 'O', 'O', 'B-restaurant_type', 'O', 'B-restaurant_type', 'O', 'B-party_size_number', 'O']\n"
          ]
        }
      ]
    },
    {
      "cell_type": "code",
      "source": [
        "converter_cnn = tf.lite.TFLiteConverter.from_keras_model(cnn)\n",
        "tflite_model_cnn = converter_cnn.convert()\n",
        "open(\"cnn.tflite\", \"wb\").write(tflite_model_cnn)"
      ],
      "metadata": {
        "colab": {
          "base_uri": "https://localhost:8080/"
        },
        "id": "nB623RQC0PsO",
        "outputId": "3b9bcb06-9a6c-4c41-bec4-2b310f5f65bc"
      },
      "execution_count": 12,
      "outputs": [
        {
          "output_type": "execute_result",
          "data": {
            "text/plain": [
              "5312020"
            ]
          },
          "metadata": {},
          "execution_count": 12
        }
      ]
    },
    {
      "cell_type": "code",
      "source": [
        "bilstm = tf.keras.models.load_model(\"lstm.h5\")\n",
        "\n",
        "converter_bilstm = tf.lite.TFLiteConverter.from_keras_model(bilstm)\n",
        "converter_bilstm.target_spec.supported_ops = [\n",
        "    tf.lite.OpsSet.TFLITE_BUILTINS, tf.lite.OpsSet.SELECT_TF_OPS\n",
        "]\n",
        "converter_bilstm._experimental_lower_tensor_list_ops = False\n",
        "\n",
        "tflite_model_bilstm = converter_bilstm.convert()\n",
        "open(\"bilstm.tflite\", \"wb\").write(tflite_model_bilstm)"
      ],
      "metadata": {
        "colab": {
          "base_uri": "https://localhost:8080/"
        },
        "id": "2fD5ha6a13Jx",
        "outputId": "a7cc2592-62fe-48cf-b637-433d36c9749f"
      },
      "execution_count": 13,
      "outputs": [
        {
          "output_type": "execute_result",
          "data": {
            "text/plain": [
              "2790296"
            ]
          },
          "metadata": {},
          "execution_count": 13
        }
      ]
    },
    {
      "cell_type": "code",
      "source": [
        "interpreter_cnn = tf.lite.Interpreter(model_path=\"cnn.tflite\")\n",
        "interpreter_cnn.allocate_tensors()\n",
        "\n",
        "interpreter_bilstm = tf.lite.Interpreter(model_path=\"bilstm.tflite\")\n",
        "interpreter_bilstm.allocate_tensors()"
      ],
      "metadata": {
        "id": "DGGh9-8y2ZOe"
      },
      "execution_count": 15,
      "outputs": []
    },
    {
      "cell_type": "code",
      "source": [
        "def predict_tflite(sentence):\n",
        "    # Intent Classification (using CNN model)\n",
        "    sentence_sequence = cnn_tokenizer.texts_to_sequences([sentence])\n",
        "    sentence_sequence_padded = tf.keras.preprocessing.sequence.pad_sequences(sentence_sequence, padding='post', maxlen=50)\n",
        "\n",
        "    input_details = interpreter_cnn.get_input_details()\n",
        "    output_details = interpreter_cnn.get_output_details()\n",
        "\n",
        "    interpreter_cnn.set_tensor(input_details[0]['index'], sentence_sequence_padded.astype(np.float32))\n",
        "    interpreter_cnn.invoke()\n",
        "    cnnpred = interpreter_cnn.get_tensor(output_details[0]['index'])\n",
        "    predicted_label = np.argmax(cnnpred)\n",
        "    label = le.classes_[predicted_label]\n",
        "\n",
        "    # Slots Filling (using BiLSTM model)\n",
        "    label_list = list(lstmy_tokenizer.word_index.keys())\n",
        "    index_list = list(lstmy_tokenizer.word_index.values())\n",
        "    input_seq = lstmx_tokenizer.texts_to_sequences([sentence])\n",
        "    input_features = tf.keras.preprocessing.sequence.pad_sequences(input_seq, maxlen=50, padding='post')\n",
        "\n",
        "    input_details = interpreter_bilstm.get_input_details()\n",
        "    output_details = interpreter_bilstm.get_output_details()\n",
        "\n",
        "    interpreter_bilstm.set_tensor(input_details[0]['index'], input_features.astype(np.float32))\n",
        "    interpreter_bilstm.invoke()\n",
        "    lstmpred = interpreter_bilstm.get_tensor(output_details[0]['index'])\n",
        "    slots = [label_list[index_list.index(j)] for j in [np.argmax(x) for x in lstmpred[0][:]] if j in index_list]\n",
        "\n",
        "    print(\"Sentence:\", sentence)\n",
        "    print(\"Intent:\", label)\n",
        "    print(\"Slot:\", slots)"
      ],
      "metadata": {
        "id": "bSaaSFOL2P4S"
      },
      "execution_count": 18,
      "outputs": []
    },
    {
      "cell_type": "code",
      "source": [
        "predict_tflite(\"Tell me best Japanese restaurant and book me 3 seats\")"
      ],
      "metadata": {
        "colab": {
          "base_uri": "https://localhost:8080/"
        },
        "id": "tIqqTLVr2ilb",
        "outputId": "5b48c831-51d0-456a-e462-318bc10e9eb9"
      },
      "execution_count": 19,
      "outputs": [
        {
          "output_type": "stream",
          "name": "stdout",
          "text": [
            "Sentence: Tell me best Japanese restaurant and book me 3 seats\n",
            "Intent: BookRestaurant\n",
            "Slot: ['O', 'O', 'O', 'O', 'B-restaurant_type', 'O', 'B-restaurant_type', 'O', 'B-party_size_number', 'O']\n"
          ]
        }
      ]
    }
  ]
}