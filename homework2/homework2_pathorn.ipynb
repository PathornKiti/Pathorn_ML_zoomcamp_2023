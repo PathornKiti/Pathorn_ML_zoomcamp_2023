{
 "cells": [
  {
   "cell_type": "code",
   "execution_count": 1,
   "id": "93c9f038-9c75-4a99-840a-fe03fb3ce5c3",
   "metadata": {},
   "outputs": [
    {
     "name": "stdout",
     "output_type": "stream",
     "text": [
      "--2023-09-19 08:27:43--  https://raw.githubusercontent.com/alexeygrigorev/datasets/master/housing.csv\n",
      "Resolving raw.githubusercontent.com (raw.githubusercontent.com)... 185.199.109.133, 185.199.108.133, 185.199.110.133, ...\n",
      "Connecting to raw.githubusercontent.com (raw.githubusercontent.com)|185.199.109.133|:443... connected.\n",
      "HTTP request sent, awaiting response... 200 OK\n",
      "Length: 1423529 (1.4M) [text/plain]\n",
      "Saving to: ‘housing.csv.3’\n",
      "\n",
      "housing.csv.3       100%[===================>]   1.36M  --.-KB/s    in 0.008s  \n",
      "\n",
      "2023-09-19 08:27:43 (164 MB/s) - ‘housing.csv.3’ saved [1423529/1423529]\n",
      "\n"
     ]
    }
   ],
   "source": [
    "!wget https://raw.githubusercontent.com/alexeygrigorev/datasets/master/housing.csv"
   ]
  },
  {
   "cell_type": "code",
   "execution_count": 2,
   "id": "74a92f44-4804-48e7-9a2e-5369b90ad6ac",
   "metadata": {},
   "outputs": [],
   "source": [
    "import pandas as pd\n",
    "import matplotlib.pyplot as plt\n",
    "import seaborn as sns\n",
    "import numpy as np\n",
    "from sklearn.model_selection import train_test_split\n",
    "from sklearn.linear_model import LinearRegression\n",
    "from sklearn import linear_model"
   ]
  },
  {
   "cell_type": "code",
   "execution_count": 3,
   "id": "8c21ca2b-971f-40ba-8245-d3781a7f98eb",
   "metadata": {},
   "outputs": [
    {
     "data": {
      "text/html": [
       "<div>\n",
       "<style scoped>\n",
       "    .dataframe tbody tr th:only-of-type {\n",
       "        vertical-align: middle;\n",
       "    }\n",
       "\n",
       "    .dataframe tbody tr th {\n",
       "        vertical-align: top;\n",
       "    }\n",
       "\n",
       "    .dataframe thead th {\n",
       "        text-align: right;\n",
       "    }\n",
       "</style>\n",
       "<table border=\"1\" class=\"dataframe\">\n",
       "  <thead>\n",
       "    <tr style=\"text-align: right;\">\n",
       "      <th></th>\n",
       "      <th>longitude</th>\n",
       "      <th>latitude</th>\n",
       "      <th>housing_median_age</th>\n",
       "      <th>total_rooms</th>\n",
       "      <th>total_bedrooms</th>\n",
       "      <th>population</th>\n",
       "      <th>households</th>\n",
       "      <th>median_income</th>\n",
       "      <th>median_house_value</th>\n",
       "      <th>ocean_proximity</th>\n",
       "    </tr>\n",
       "  </thead>\n",
       "  <tbody>\n",
       "    <tr>\n",
       "      <th>0</th>\n",
       "      <td>-122.23</td>\n",
       "      <td>37.88</td>\n",
       "      <td>41.0</td>\n",
       "      <td>880.0</td>\n",
       "      <td>129.0</td>\n",
       "      <td>322.0</td>\n",
       "      <td>126.0</td>\n",
       "      <td>8.3252</td>\n",
       "      <td>452600.0</td>\n",
       "      <td>NEAR BAY</td>\n",
       "    </tr>\n",
       "    <tr>\n",
       "      <th>1</th>\n",
       "      <td>-122.22</td>\n",
       "      <td>37.86</td>\n",
       "      <td>21.0</td>\n",
       "      <td>7099.0</td>\n",
       "      <td>1106.0</td>\n",
       "      <td>2401.0</td>\n",
       "      <td>1138.0</td>\n",
       "      <td>8.3014</td>\n",
       "      <td>358500.0</td>\n",
       "      <td>NEAR BAY</td>\n",
       "    </tr>\n",
       "    <tr>\n",
       "      <th>2</th>\n",
       "      <td>-122.24</td>\n",
       "      <td>37.85</td>\n",
       "      <td>52.0</td>\n",
       "      <td>1467.0</td>\n",
       "      <td>190.0</td>\n",
       "      <td>496.0</td>\n",
       "      <td>177.0</td>\n",
       "      <td>7.2574</td>\n",
       "      <td>352100.0</td>\n",
       "      <td>NEAR BAY</td>\n",
       "    </tr>\n",
       "    <tr>\n",
       "      <th>3</th>\n",
       "      <td>-122.25</td>\n",
       "      <td>37.85</td>\n",
       "      <td>52.0</td>\n",
       "      <td>1274.0</td>\n",
       "      <td>235.0</td>\n",
       "      <td>558.0</td>\n",
       "      <td>219.0</td>\n",
       "      <td>5.6431</td>\n",
       "      <td>341300.0</td>\n",
       "      <td>NEAR BAY</td>\n",
       "    </tr>\n",
       "    <tr>\n",
       "      <th>4</th>\n",
       "      <td>-122.25</td>\n",
       "      <td>37.85</td>\n",
       "      <td>52.0</td>\n",
       "      <td>1627.0</td>\n",
       "      <td>280.0</td>\n",
       "      <td>565.0</td>\n",
       "      <td>259.0</td>\n",
       "      <td>3.8462</td>\n",
       "      <td>342200.0</td>\n",
       "      <td>NEAR BAY</td>\n",
       "    </tr>\n",
       "  </tbody>\n",
       "</table>\n",
       "</div>"
      ],
      "text/plain": [
       "   longitude  latitude  housing_median_age  total_rooms  total_bedrooms  \\\n",
       "0    -122.23     37.88                41.0        880.0           129.0   \n",
       "1    -122.22     37.86                21.0       7099.0          1106.0   \n",
       "2    -122.24     37.85                52.0       1467.0           190.0   \n",
       "3    -122.25     37.85                52.0       1274.0           235.0   \n",
       "4    -122.25     37.85                52.0       1627.0           280.0   \n",
       "\n",
       "   population  households  median_income  median_house_value ocean_proximity  \n",
       "0       322.0       126.0         8.3252            452600.0        NEAR BAY  \n",
       "1      2401.0      1138.0         8.3014            358500.0        NEAR BAY  \n",
       "2       496.0       177.0         7.2574            352100.0        NEAR BAY  \n",
       "3       558.0       219.0         5.6431            341300.0        NEAR BAY  \n",
       "4       565.0       259.0         3.8462            342200.0        NEAR BAY  "
      ]
     },
     "execution_count": 3,
     "metadata": {},
     "output_type": "execute_result"
    }
   ],
   "source": [
    "df = pd.read_csv(\"housing.csv\")\n",
    "df.head()"
   ]
  },
  {
   "cell_type": "markdown",
   "id": "c0a0c41d-7b2c-43f6-bd38-62b80c841fef",
   "metadata": {},
   "source": [
    "# Simple EDA"
   ]
  },
  {
   "cell_type": "code",
   "execution_count": 4,
   "id": "7e368cab-d444-4a21-a5fb-38885b88f792",
   "metadata": {},
   "outputs": [
    {
     "data": {
      "image/png": "[encoded data removed]",
      "text/plain": [
       "<Figure size 1000x600 with 1 Axes>"
      ]
     },
     "metadata": {},
     "output_type": "display_data"
    }
   ],
   "source": [
    "plt.figure(figsize=(10, 6))\n",
    "sns.histplot(df['median_house_value'], kde=True)\n",
    "plt.title('Distribution of Median House Value')\n",
    "plt.xlabel('Median House Value')\n",
    "plt.ylabel('Frequency')\n",
    "plt.show()"
   ]
  },
  {
   "cell_type": "code",
   "execution_count": 5,
   "id": "b2b466aa-391d-4b1f-8fe3-5fcdee108d70",
   "metadata": {},
   "outputs": [],
   "source": [
    "selected_ocean_proximity = ['<1H OCEAN', 'INLAND']\n",
    "df_use= df[df['ocean_proximity'].isin(selected_ocean_proximity)]\n",
    "\n",
    "# Use only the specified columns\n",
    "selected_columns = ['latitude', 'longitude', 'housing_median_age', 'total_rooms',\n",
    "                    'total_bedrooms', 'population', 'households', 'median_income', 'median_house_value']\n",
    "df_use = df_use[selected_columns]"
   ]
  },
  {
   "cell_type": "code",
   "execution_count": 6,
   "id": "73047736-7f30-43e9-a222-c2f86671bc1f",
   "metadata": {},
   "outputs": [
    {
     "data": {
      "text/plain": [
       "total_bedrooms    157\n",
       "dtype: int64"
      ]
     },
     "execution_count": 6,
     "metadata": {},
     "output_type": "execute_result"
    }
   ],
   "source": [
    "missing_values = df_use.isnull().sum()\n",
    "missing_values[missing_values > 0]"
   ]
  },
  {
   "cell_type": "code",
   "execution_count": 7,
   "id": "a7c1e8ef-42da-4c1c-bd15-a184493560d6",
   "metadata": {},
   "outputs": [
    {
     "data": {
      "text/plain": [
       "1195.0"
      ]
     },
     "execution_count": 7,
     "metadata": {},
     "output_type": "execute_result"
    }
   ],
   "source": [
    "df_use['population'].median()"
   ]
  },
  {
   "cell_type": "code",
   "execution_count": 8,
   "id": "1e2321bc-ed14-4cad-9bf6-34a940882985",
   "metadata": {},
   "outputs": [
    {
     "name": "stderr",
     "output_type": "stream",
     "text": [
      "/var/tmp/ipykernel_105636/165725626.py:1: UserWarning: \n",
      "\n",
      "`distplot` is a deprecated function and will be removed in seaborn v0.14.0.\n",
      "\n",
      "Please adapt your code to use either `displot` (a figure-level function with\n",
      "similar flexibility) or `histplot` (an axes-level function for histograms).\n",
      "\n",
      "For a guide to updating your code to use the new functions, please see\n",
      "https://gist.github.com/mwaskom/de44147ed2974457ad6372750bbe5751\n",
      "\n",
      "  sns.distplot(np.log1p(df_use.median_house_value))\n"
     ]
    },
    {
     "data": {
      "text/plain": [
       "<Axes: xlabel='median_house_value', ylabel='Density'>"
      ]
     },
     "execution_count": 8,
     "metadata": {},
     "output_type": "execute_result"
    },
    {
     "data": {
      "image/png": "[encoded data removed]",
      "text/plain": [
       "<Figure size 640x480 with 1 Axes>"
      ]
     },
     "metadata": {},
     "output_type": "display_data"
    }
   ],
   "source": [
    "sns.distplot(np.log1p(df_use.median_house_value))"
   ]
  },
  {
   "cell_type": "markdown",
   "id": "d2ccaf70-8df9-4888-9e8e-7f380fe14bd1",
   "metadata": {},
   "source": [
    "# Train Valid Test Split"
   ]
  },
  {
   "cell_type": "code",
   "execution_count": 9,
   "id": "6c65b08a-b905-4f7f-9d0e-bb8d208c6abb",
   "metadata": {},
   "outputs": [
    {
     "name": "stdout",
     "output_type": "stream",
     "text": [
      "Train shapes: X_train - (9412, 8), y_train - (9412,)\n",
      "Validation shapes: X_val - (3137, 8), y_val - (3137,)\n",
      "Test shapes: X_test - (3138, 8), y_test - (3138,)\n"
     ]
    }
   ],
   "source": [
    "df_use = df_use.sample(frac=1, random_state=42)\n",
    "\n",
    "X = df_use.drop('median_house_value', axis=1)\n",
    "y = df_use['median_house_value']\n",
    "\n",
    "y = np.log1p(y)\n",
    "\n",
    "X_train, X_temp, y_train, y_temp = train_test_split(X, y, test_size=0.4, random_state=42)\n",
    "X_val, X_test, y_val, y_test = train_test_split(X_temp, y_temp, test_size=0.5, random_state=42)\n",
    "\n",
    "print(\"Train shapes: X_train - {}, y_train - {}\".format(X_train.shape, y_train.shape))\n",
    "print(\"Validation shapes: X_val - {}, y_val - {}\".format(X_val.shape, y_val.shape))\n",
    "print(\"Test shapes: X_test - {}, y_test - {}\".format(X_test.shape, y_test.shape))"
   ]
  },
  {
   "cell_type": "markdown",
   "id": "e631e332-94b5-4121-9b65-54000ec50dc0",
   "metadata": {},
   "source": [
    "# Linear Regression"
   ]
  },
  {
   "cell_type": "code",
   "execution_count": 10,
   "id": "16955e8e-5198-45e0-b7db-c012b8a30abf",
   "metadata": {},
   "outputs": [],
   "source": [
    "def prep(df, fillna_value):\n",
    "    df = df.fillna(fillna_value)\n",
    "    X = df.values\n",
    "    return X"
   ]
  },
  {
   "cell_type": "code",
   "execution_count": 11,
   "id": "ff7c2f18-58b8-43de-a599-fb7dc4bdbe49",
   "metadata": {},
   "outputs": [],
   "source": [
    "def rmse(y, y_pred):\n",
    "    error = y_pred - y\n",
    "    mse = (error ** 2).mean()\n",
    "    return np.sqrt(mse)"
   ]
  },
  {
   "cell_type": "code",
   "execution_count": 12,
   "id": "b05dceb9-2094-4549-afa2-44895316dd5a",
   "metadata": {},
   "outputs": [],
   "source": [
    "X_mean_train = prep(X_train, fillna_value=X_train.total_bedrooms.mean())\n",
    "X_zero_train = prep(X_train, fillna_value=0)"
   ]
  },
  {
   "cell_type": "code",
   "execution_count": 13,
   "id": "8e04ee77-4fdd-4e63-a697-c73331a23a9c",
   "metadata": {},
   "outputs": [],
   "source": [
    "X_mean_val = prep(X_val, fillna_value=X_train.total_bedrooms.mean())\n",
    "X_zero_val = prep(X_val, fillna_value=0)"
   ]
  },
  {
   "cell_type": "code",
   "execution_count": 14,
   "id": "6b279f85-a57f-4a9b-b26e-0e757df561f0",
   "metadata": {},
   "outputs": [
    {
     "name": "stdout",
     "output_type": "stream",
     "text": [
      "0.35\n"
     ]
    }
   ],
   "source": [
    "reg_mean= LinearRegression()\n",
    "reg_mean.fit(X_mean_train, y_train)\n",
    "y_pred_mean = reg_mean.predict(X_mean_val)\n",
    "print(np.round(rmse(y_val, y_pred_mean),2))"
   ]
  },
  {
   "cell_type": "code",
   "execution_count": 15,
   "id": "2066124a-d1f2-4acc-96cd-aa3877474f21",
   "metadata": {},
   "outputs": [
    {
     "name": "stdout",
     "output_type": "stream",
     "text": [
      "0.35\n"
     ]
    }
   ],
   "source": [
    "reg_zero= LinearRegression()\n",
    "reg_zero.fit(X_zero_train, y_train)\n",
    "y_pred_zero = reg_zero.predict(X_zero_val)\n",
    "print(np.round(rmse(y_val, y_pred_zero),2))"
   ]
  },
  {
   "cell_type": "markdown",
   "id": "4dbc14b8-11dc-46f2-ae23-aa4697cbea73",
   "metadata": {},
   "source": [
    "# L1 Regularization with Lasso Regression"
   ]
  },
  {
   "cell_type": "code",
   "execution_count": 16,
   "id": "caf2197f-9306-4e60-b74a-f1bd162b45df",
   "metadata": {},
   "outputs": [],
   "source": [
    "r=[0, 0.000001, 0.0001, 0.001, 0.01, 0.1, 1, 5, 10]"
   ]
  },
  {
   "cell_type": "code",
   "execution_count": 17,
   "id": "efc34d2a-813d-4f8e-9fcd-f6e83a12037e",
   "metadata": {},
   "outputs": [],
   "source": [
    "X_zero_train = prep(X_train, fillna_value=0)\n",
    "X_zero_val = prep(X_val, fillna_value=0)"
   ]
  },
  {
   "cell_type": "code",
   "execution_count": 18,
   "id": "fd7b7619-bf8b-4381-8d88-bcbfff53edf0",
   "metadata": {},
   "outputs": [
    {
     "name": "stderr",
     "output_type": "stream",
     "text": [
      "/opt/conda/lib/python3.10/site-packages/sklearn/base.py:1151: UserWarning: With alpha=0, this algorithm does not converge well. You are advised to use the LinearRegression estimator\n",
      "  return fit_method(estimator, *args, **kwargs)\n",
      "/opt/conda/lib/python3.10/site-packages/sklearn/linear_model/_coordinate_descent.py:628: UserWarning: Coordinate descent with no regularization may lead to unexpected results and is discouraged.\n",
      "  model = cd_fast.enet_coordinate_descent(\n",
      "/opt/conda/lib/python3.10/site-packages/sklearn/linear_model/_coordinate_descent.py:628: ConvergenceWarning: Objective did not converge. You might want to increase the number of iterations, check the scale of the features or consider increasing regularisation. Duality gap: 5.249e+02, tolerance: 2.988e-01 Linear regression models with null weight for the l1 regularization term are more efficiently fitted using one of the solvers implemented in sklearn.linear_model.Ridge/RidgeCV instead.\n",
      "  model = cd_fast.enet_coordinate_descent(\n"
     ]
    },
    {
     "name": "stdout",
     "output_type": "stream",
     "text": [
      "0 0.35\n",
      "1e-06 0.35\n",
      "0.0001 0.35\n",
      "0.001 0.35\n",
      "0.01 0.35\n",
      "0.1 0.39\n",
      "1 0.55\n",
      "5 0.56\n",
      "10 0.56\n"
     ]
    }
   ],
   "source": [
    "for i in r:\n",
    "    reg = linear_model.Lasso(alpha=i)\n",
    "    reg.fit(X_zero_train, y_train)\n",
    "    y_pred = reg.predict(X_zero_val)\n",
    "    print(i,np.round(rmse(y_val, y_pred),2))"
   ]
  },
  {
   "cell_type": "markdown",
   "id": "2dbd8ecf-ba0b-48d1-89b4-43d7f7f7ab17",
   "metadata": {},
   "source": [
    "# Seed"
   ]
  },
  {
   "cell_type": "code",
   "execution_count": 19,
   "id": "1d624ee9-2f07-4b70-bd96-bc758fe921db",
   "metadata": {},
   "outputs": [],
   "source": [
    "seeds=[0, 1, 2, 3, 4, 5, 6, 7, 8, 9]"
   ]
  },
  {
   "cell_type": "code",
   "execution_count": 20,
   "id": "4a8cfb07-6a2f-49f9-aab1-17e4e5a6012a",
   "metadata": {},
   "outputs": [
    {
     "name": "stdout",
     "output_type": "stream",
     "text": [
      "0 0.34\n",
      "1 0.34\n",
      "2 0.34\n",
      "3 0.34\n",
      "4 0.35\n",
      "5 0.34\n",
      "6 0.34\n",
      "7 0.34\n",
      "8 0.36\n",
      "9 0.34\n"
     ]
    }
   ],
   "source": [
    "rmse_list=[]\n",
    "\n",
    "for seed in seeds:\n",
    "\n",
    "    X_train, X_temp, y_train, y_temp = train_test_split(X, y, test_size=0.4, random_state=seed)\n",
    "    X_val, X_test, y_val, y_test = train_test_split(X_temp, y_temp, test_size=0.5, random_state=seed)\n",
    "\n",
    "    \n",
    "    \n",
    "    X_zero_train = prep(X_train, fillna_value=0)\n",
    "    X_zero_val = prep(X_val, fillna_value=0)\n",
    "    \n",
    "    reg = LinearRegression()\n",
    "    reg.fit(X_zero_train, y_train)\n",
    "    \n",
    "    \n",
    "    \n",
    "    y_pred = reg.predict(X_zero_val)\n",
    "    \n",
    "    rmse_val = np.round(rmse(y_val, y_pred),2)\n",
    "    \n",
    "    rmse_list.append(rmse_val)\n",
    "    \n",
    "    print(seed, rmse_val)\n",
    "     "
   ]
  },
  {
   "cell_type": "code",
   "execution_count": 23,
   "id": "bb36af7d-1622-44b9-9b45-3955a4331ee9",
   "metadata": {},
   "outputs": [
    {
     "data": {
      "text/plain": [
       "0.006"
      ]
     },
     "execution_count": 23,
     "metadata": {},
     "output_type": "execute_result"
    }
   ],
   "source": [
    "round(np.std(rmse_list), 3)"
   ]
  },
  {
   "cell_type": "code",
   "execution_count": 24,
   "id": "bb30599b-69ff-4eb4-9a6c-ccebca621580",
   "metadata": {},
   "outputs": [],
   "source": [
    "X_train, X_test, y_train, y_test = train_test_split(X, y, test_size=0.2, random_state=9)"
   ]
  },
  {
   "cell_type": "code",
   "execution_count": 26,
   "id": "9f61c395-1762-4626-af85-ee4159a74a51",
   "metadata": {},
   "outputs": [],
   "source": [
    "X_zero_train = prep(X_train, fillna_value=0)\n",
    "X_zero_test = prep(X_test, fillna_value=0)"
   ]
  },
  {
   "cell_type": "code",
   "execution_count": 27,
   "id": "ebe1bf09-7cd9-41c0-8773-07eddb0d9845",
   "metadata": {},
   "outputs": [],
   "source": [
    "reg = linear_model.Lasso(alpha=0.001)\n",
    "reg.fit(X_zero_train, y_train)\n",
    "y_pred = reg.predict(X_zero_test)"
   ]
  },
  {
   "cell_type": "code",
   "execution_count": null,
   "id": "49732610-04b2-4b29-8a72-d07e2586dec7",
   "metadata": {},
   "outputs": [],
   "source": []
  }
 ],
 "metadata": {
  "environment": {
   "kernel": "python3",
   "name": "tf2-gpu.2-11.m109",
   "type": "gcloud",
   "uri": "gcr.io/deeplearning-platform-release/tf2-gpu.2-11:m109"
  },
  "kernelspec": {
   "display_name": "Python 3",
   "language": "python",
   "name": "python3"
  },
  "language_info": {
   "codemirror_mode": {
    "name": "ipython",
    "version": 3
   },
   "file_extension": ".py",
   "mimetype": "text/x-python",
   "name": "python",
   "nbconvert_exporter": "python",
   "pygments_lexer": "ipython3",
   "version": "3.10.11"
  }
 },
 "nbformat": 4,
 "nbformat_minor": 5
}
